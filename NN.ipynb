{
 "cells": [
  {
   "cell_type": "code",
   "execution_count": 1,
   "metadata": {
    "collapsed": true,
    "ExecuteTime": {
     "end_time": "2023-07-27T20:17:22.111437Z",
     "start_time": "2023-07-27T20:17:20.644901Z"
    }
   },
   "outputs": [],
   "source": [
    "from keras.models import Sequential\n",
    "from keras.layers import Dense, Dropout\n",
    "from keras.optimizers import Adam\n",
    "from sklearn.metrics import confusion_matrix\n",
    "import os\n",
    "import random\n",
    "\n",
    "import matplotlib.pyplot as plt\n",
    "from sklearn.metrics import classification_report\n",
    "import seaborn as sns\n",
    "import numpy as np\n",
    "import tensorflow as tf"
   ]
  },
  {
   "cell_type": "code",
   "execution_count": 14,
   "outputs": [],
   "source": [
    "np.random.seed(42)\n",
    "tf.random.set_seed(42)\n",
    "random.seed(42)\n",
    "os.environ['TF_DETERMINISTIC_OPS'] = '1'\n",
    "os.environ['PYTHONHASHSEED'] = '0'\n",
    "\n",
    "# Load data\n",
    "train_X = np.load('Feature_Sel_Sauvola_train_features.npy')\n",
    "train_Y = np.load('Feature_Sel_Sauvola_train_labels.npy')\n",
    "test_X = np.load('Feature_Sel_Sauvola_test_features.npy')\n",
    "test_Y = np.load('Feature_Sel_Sauvola_test_labels.npy')\n",
    "\n",
    "train_Y[train_Y=='benign'] = 0\n",
    "train_Y[train_Y=='malignant'] = 1\n",
    "train_Y = train_Y.astype(np.int32)\n",
    "\n",
    "test_Y[test_Y=='benign'] = 0\n",
    "test_Y[test_Y=='malignant'] = 1\n",
    "test_Y = test_Y.astype(np.int32)"
   ],
   "metadata": {
    "collapsed": false,
    "ExecuteTime": {
     "end_time": "2023-07-27T20:42:08.384836Z",
     "start_time": "2023-07-27T20:42:08.005978Z"
    }
   }
  },
  {
   "cell_type": "code",
   "execution_count": 15,
   "outputs": [],
   "source": [
    "# Flatten the images for MLP\n",
    "train_X = train_X.reshape((train_X.shape[0], -1))\n",
    "test_X = test_X.reshape((test_X.shape[0], -1))\n",
    "\n",
    "# normorlize the data\n",
    "min_list1 = np.amin(train_X, axis=0)\n",
    "max_list1 = np.amax(train_X, axis=0)\n",
    "train_X = (train_X - min_list1) / (max_list1 - min_list1)\n",
    "\n",
    "min_list2 = np.amin(test_X, axis=0)\n",
    "max_list2 = np.amax(test_X, axis=0)\n",
    "test_X = (test_X - min_list2) / (max_list2 - min_list1)"
   ],
   "metadata": {
    "collapsed": false,
    "ExecuteTime": {
     "end_time": "2023-07-27T20:42:08.920609Z",
     "start_time": "2023-07-27T20:42:08.915873Z"
    }
   }
  },
  {
   "cell_type": "code",
   "execution_count": 16,
   "outputs": [],
   "source": [
    "# Create the MLP model\n",
    "model = Sequential()\n",
    "model.add(Dense(256, input_dim=train_X.shape[1], activation='relu'))\n",
    "model.add(Dense(128, activation='relu'))\n",
    "model.add(Dropout(0.1))\n",
    "model.add(Dense(64, activation='relu'))\n",
    "model.add(Dense(32, activation='relu'))\n",
    "model.add(Dense(2, activation='softmax'))"
   ],
   "metadata": {
    "collapsed": false,
    "ExecuteTime": {
     "end_time": "2023-07-27T20:42:09.822470Z",
     "start_time": "2023-07-27T20:42:09.769020Z"
    }
   }
  },
  {
   "cell_type": "code",
   "execution_count": 17,
   "outputs": [
    {
     "name": "stdout",
     "output_type": "stream",
     "text": [
      "Epoch 1/100\n",
      "28/28 [==============================] - 1s 32ms/step - loss: 0.9694 - accuracy: 0.5103\n",
      "Epoch 2/100\n",
      "28/28 [==============================] - 1s 32ms/step - loss: 0.7694 - accuracy: 0.5006\n",
      "Epoch 3/100\n",
      "28/28 [==============================] - 1s 31ms/step - loss: 0.7311 - accuracy: 0.5031\n",
      "Epoch 4/100\n",
      "28/28 [==============================] - 1s 32ms/step - loss: 0.7231 - accuracy: 0.5043\n",
      "Epoch 5/100\n",
      "28/28 [==============================] - 1s 33ms/step - loss: 0.7172 - accuracy: 0.5040\n",
      "Epoch 6/100\n",
      "28/28 [==============================] - 1s 32ms/step - loss: 0.7109 - accuracy: 0.5157\n",
      "Epoch 7/100\n",
      "28/28 [==============================] - 1s 32ms/step - loss: 0.7025 - accuracy: 0.5256\n",
      "Epoch 8/100\n",
      "28/28 [==============================] - 1s 32ms/step - loss: 0.7047 - accuracy: 0.5091\n",
      "Epoch 9/100\n",
      "28/28 [==============================] - 1s 32ms/step - loss: 0.7053 - accuracy: 0.5256\n",
      "Epoch 10/100\n",
      "28/28 [==============================] - 1s 32ms/step - loss: 0.6979 - accuracy: 0.5362\n",
      "Epoch 11/100\n",
      "28/28 [==============================] - 1s 32ms/step - loss: 0.7036 - accuracy: 0.5299\n",
      "Epoch 12/100\n",
      "28/28 [==============================] - 1s 32ms/step - loss: 0.6963 - accuracy: 0.5310\n",
      "Epoch 13/100\n",
      "28/28 [==============================] - 1s 32ms/step - loss: 0.6898 - accuracy: 0.5470\n",
      "Epoch 14/100\n",
      "28/28 [==============================] - 1s 32ms/step - loss: 0.6761 - accuracy: 0.5891\n",
      "Epoch 15/100\n",
      "28/28 [==============================] - 1s 32ms/step - loss: 0.6666 - accuracy: 0.5877\n",
      "Epoch 16/100\n",
      "28/28 [==============================] - 1s 32ms/step - loss: 0.6839 - accuracy: 0.5538\n",
      "Epoch 17/100\n",
      "28/28 [==============================] - 1s 32ms/step - loss: 0.6767 - accuracy: 0.5780\n",
      "Epoch 18/100\n",
      "28/28 [==============================] - 1s 32ms/step - loss: 0.6673 - accuracy: 0.6025\n",
      "Epoch 19/100\n",
      "28/28 [==============================] - 1s 32ms/step - loss: 0.6665 - accuracy: 0.6005\n",
      "Epoch 20/100\n",
      "28/28 [==============================] - 1s 32ms/step - loss: 0.6700 - accuracy: 0.5886\n",
      "Epoch 21/100\n",
      "28/28 [==============================] - 1s 32ms/step - loss: 0.6543 - accuracy: 0.6213\n",
      "Epoch 22/100\n",
      "28/28 [==============================] - 1s 32ms/step - loss: 0.6505 - accuracy: 0.6281\n",
      "Epoch 23/100\n",
      "28/28 [==============================] - 1s 32ms/step - loss: 0.6292 - accuracy: 0.6703\n",
      "Epoch 24/100\n",
      "28/28 [==============================] - 1s 32ms/step - loss: 0.6088 - accuracy: 0.7173\n",
      "Epoch 25/100\n",
      "28/28 [==============================] - 1s 32ms/step - loss: 0.6177 - accuracy: 0.6446\n",
      "Epoch 26/100\n",
      "28/28 [==============================] - 1s 32ms/step - loss: 0.6086 - accuracy: 0.6785\n",
      "Epoch 27/100\n",
      "28/28 [==============================] - 1s 32ms/step - loss: 0.5754 - accuracy: 0.7315\n",
      "Epoch 28/100\n",
      "28/28 [==============================] - 1s 32ms/step - loss: 0.6222 - accuracy: 0.6361\n",
      "Epoch 29/100\n",
      "28/28 [==============================] - 1s 32ms/step - loss: 0.6952 - accuracy: 0.5917\n",
      "Epoch 30/100\n",
      "28/28 [==============================] - 1s 32ms/step - loss: 0.6059 - accuracy: 0.6876\n",
      "Epoch 31/100\n",
      "28/28 [==============================] - 1s 32ms/step - loss: 0.5721 - accuracy: 0.7153\n",
      "Epoch 32/100\n",
      "28/28 [==============================] - 1s 32ms/step - loss: 0.5704 - accuracy: 0.7027\n",
      "Epoch 33/100\n",
      "28/28 [==============================] - 1s 32ms/step - loss: 0.5301 - accuracy: 0.7574\n",
      "Epoch 34/100\n",
      "28/28 [==============================] - 1s 32ms/step - loss: 0.5185 - accuracy: 0.7474\n",
      "Epoch 35/100\n",
      "28/28 [==============================] - 1s 32ms/step - loss: 0.4816 - accuracy: 0.7933\n",
      "Epoch 36/100\n",
      "28/28 [==============================] - 1s 32ms/step - loss: 0.5379 - accuracy: 0.7306\n",
      "Epoch 37/100\n",
      "28/28 [==============================] - 1s 32ms/step - loss: 0.5120 - accuracy: 0.7463\n",
      "Epoch 38/100\n",
      "28/28 [==============================] - 1s 32ms/step - loss: 0.4946 - accuracy: 0.7472\n",
      "Epoch 39/100\n",
      "28/28 [==============================] - 1s 32ms/step - loss: 0.4240 - accuracy: 0.8460\n",
      "Epoch 40/100\n",
      "28/28 [==============================] - 1s 32ms/step - loss: 0.5038 - accuracy: 0.7469\n",
      "Epoch 41/100\n",
      "28/28 [==============================] - 1s 32ms/step - loss: 0.4335 - accuracy: 0.8124\n",
      "Epoch 42/100\n",
      "28/28 [==============================] - 1s 32ms/step - loss: 0.4608 - accuracy: 0.7924\n",
      "Epoch 43/100\n",
      "28/28 [==============================] - 1s 32ms/step - loss: 0.4671 - accuracy: 0.7634\n",
      "Epoch 44/100\n",
      "28/28 [==============================] - 1s 32ms/step - loss: 0.3658 - accuracy: 0.8719\n",
      "Epoch 45/100\n",
      "28/28 [==============================] - 1s 32ms/step - loss: 0.3589 - accuracy: 0.8630\n",
      "Epoch 46/100\n",
      "28/28 [==============================] - 1s 32ms/step - loss: 0.3484 - accuracy: 0.8562\n",
      "Epoch 47/100\n",
      "28/28 [==============================] - 1s 32ms/step - loss: 0.5479 - accuracy: 0.7150\n",
      "Epoch 48/100\n",
      "28/28 [==============================] - 1s 32ms/step - loss: 0.4307 - accuracy: 0.8118\n",
      "Epoch 49/100\n",
      "28/28 [==============================] - 1s 32ms/step - loss: 0.3900 - accuracy: 0.8437\n",
      "Epoch 50/100\n",
      "28/28 [==============================] - 1s 31ms/step - loss: 0.4083 - accuracy: 0.8050\n",
      "Epoch 51/100\n",
      "28/28 [==============================] - 1s 31ms/step - loss: 0.3066 - accuracy: 0.8904\n",
      "Epoch 52/100\n",
      "28/28 [==============================] - 1s 32ms/step - loss: 0.2931 - accuracy: 0.8884\n",
      "Epoch 53/100\n",
      "28/28 [==============================] - 1s 31ms/step - loss: 0.3174 - accuracy: 0.8588\n",
      "Epoch 54/100\n",
      "28/28 [==============================] - 1s 31ms/step - loss: 0.3324 - accuracy: 0.8462\n",
      "Epoch 55/100\n",
      "28/28 [==============================] - 1s 31ms/step - loss: 0.3214 - accuracy: 0.8497\n",
      "Epoch 56/100\n",
      "28/28 [==============================] - 1s 31ms/step - loss: 0.2417 - accuracy: 0.9106\n",
      "Epoch 57/100\n",
      "28/28 [==============================] - 1s 31ms/step - loss: 0.2348 - accuracy: 0.9086\n",
      "Epoch 58/100\n",
      "28/28 [==============================] - 1s 31ms/step - loss: 0.2819 - accuracy: 0.8781\n",
      "Epoch 59/100\n",
      "28/28 [==============================] - 1s 31ms/step - loss: 0.3840 - accuracy: 0.8317\n",
      "Epoch 60/100\n",
      "28/28 [==============================] - 1s 31ms/step - loss: 0.2568 - accuracy: 0.8915\n",
      "Epoch 61/100\n",
      "28/28 [==============================] - 1s 31ms/step - loss: 0.2110 - accuracy: 0.9203\n",
      "Epoch 62/100\n",
      "28/28 [==============================] - 1s 31ms/step - loss: 0.1811 - accuracy: 0.9359\n",
      "Epoch 63/100\n",
      "28/28 [==============================] - 1s 32ms/step - loss: 0.1829 - accuracy: 0.9285\n",
      "Epoch 64/100\n",
      "28/28 [==============================] - 1s 31ms/step - loss: 0.1567 - accuracy: 0.9433\n",
      "Epoch 65/100\n",
      "28/28 [==============================] - 1s 31ms/step - loss: 0.1459 - accuracy: 0.9505\n",
      "Epoch 66/100\n",
      "28/28 [==============================] - 1s 31ms/step - loss: 0.1623 - accuracy: 0.9374\n",
      "Epoch 67/100\n",
      "28/28 [==============================] - 1s 31ms/step - loss: 0.1322 - accuracy: 0.9553\n",
      "Epoch 68/100\n",
      "28/28 [==============================] - 1s 31ms/step - loss: 0.1057 - accuracy: 0.9718\n",
      "Epoch 69/100\n",
      "28/28 [==============================] - 1s 31ms/step - loss: 0.1302 - accuracy: 0.9542\n",
      "Epoch 70/100\n",
      "28/28 [==============================] - 1s 31ms/step - loss: 0.2030 - accuracy: 0.9123\n",
      "Epoch 71/100\n",
      "28/28 [==============================] - 1s 31ms/step - loss: 0.0923 - accuracy: 0.9761\n",
      "Epoch 72/100\n",
      "28/28 [==============================] - 1s 32ms/step - loss: 0.1760 - accuracy: 0.9300\n",
      "Epoch 73/100\n",
      "28/28 [==============================] - 1s 31ms/step - loss: 0.1382 - accuracy: 0.9470\n",
      "Epoch 74/100\n",
      "28/28 [==============================] - 1s 31ms/step - loss: 0.2388 - accuracy: 0.8989\n",
      "Epoch 75/100\n",
      "28/28 [==============================] - 1s 31ms/step - loss: 0.1180 - accuracy: 0.9581\n",
      "Epoch 76/100\n",
      "28/28 [==============================] - 1s 31ms/step - loss: 0.1553 - accuracy: 0.9385\n",
      "Epoch 77/100\n",
      "28/28 [==============================] - 1s 33ms/step - loss: 0.1992 - accuracy: 0.9092\n",
      "Epoch 78/100\n",
      "28/28 [==============================] - 1s 42ms/step - loss: 0.1242 - accuracy: 0.9550\n",
      "Epoch 79/100\n",
      "28/28 [==============================] - 1s 32ms/step - loss: 0.3150 - accuracy: 0.8665\n",
      "Epoch 80/100\n",
      "28/28 [==============================] - 1s 32ms/step - loss: 0.2439 - accuracy: 0.9100\n",
      "Epoch 81/100\n",
      "28/28 [==============================] - 1s 34ms/step - loss: 0.1394 - accuracy: 0.9690\n",
      "Epoch 82/100\n",
      "28/28 [==============================] - 1s 34ms/step - loss: 0.1259 - accuracy: 0.9701\n",
      "Epoch 83/100\n",
      "28/28 [==============================] - 1s 31ms/step - loss: 0.1194 - accuracy: 0.9653\n",
      "Epoch 84/100\n",
      "28/28 [==============================] - 1s 32ms/step - loss: 0.1545 - accuracy: 0.9411\n",
      "Epoch 85/100\n",
      "28/28 [==============================] - 1s 32ms/step - loss: 0.1492 - accuracy: 0.9411\n",
      "Epoch 86/100\n",
      "28/28 [==============================] - 1s 31ms/step - loss: 0.1063 - accuracy: 0.9673\n",
      "Epoch 87/100\n",
      "28/28 [==============================] - 1s 31ms/step - loss: 0.0889 - accuracy: 0.9741\n",
      "Epoch 88/100\n",
      "28/28 [==============================] - 1s 31ms/step - loss: 0.0736 - accuracy: 0.9838\n",
      "Epoch 89/100\n",
      "28/28 [==============================] - 1s 32ms/step - loss: 0.1093 - accuracy: 0.9627\n",
      "Epoch 90/100\n",
      "28/28 [==============================] - 1s 31ms/step - loss: 0.1089 - accuracy: 0.9613\n",
      "Epoch 91/100\n",
      "28/28 [==============================] - 1s 32ms/step - loss: 0.3100 - accuracy: 0.8622\n",
      "Epoch 92/100\n",
      "28/28 [==============================] - 1s 31ms/step - loss: 0.1929 - accuracy: 0.9223\n",
      "Epoch 93/100\n",
      "28/28 [==============================] - 1s 31ms/step - loss: 0.1487 - accuracy: 0.9405\n",
      "Epoch 94/100\n",
      "28/28 [==============================] - 1s 31ms/step - loss: 0.1135 - accuracy: 0.9601\n",
      "Epoch 95/100\n",
      "28/28 [==============================] - 1s 31ms/step - loss: 0.1017 - accuracy: 0.9667\n",
      "Epoch 96/100\n",
      "28/28 [==============================] - 1s 31ms/step - loss: 0.0988 - accuracy: 0.9667\n",
      "Epoch 97/100\n",
      "28/28 [==============================] - 1s 33ms/step - loss: 0.0684 - accuracy: 0.9821\n",
      "Epoch 98/100\n",
      "28/28 [==============================] - 1s 32ms/step - loss: 0.0639 - accuracy: 0.9829\n",
      "Epoch 99/100\n",
      "28/28 [==============================] - 1s 32ms/step - loss: 0.0617 - accuracy: 0.9852\n",
      "Epoch 100/100\n",
      "28/28 [==============================] - 1s 31ms/step - loss: 0.0716 - accuracy: 0.9781\n",
      "\n",
      "# Evaluate on test data\n",
      "19/19 [==============================] - 1s 22ms/step - loss: 1.1283 - accuracy: 0.6509\n",
      "test loss, test acc: [1.1282659769058228, 0.6508530974388123]\n"
     ]
    }
   ],
   "source": [
    "optimizer = Adam(0.0001)\n",
    "\n",
    "model.compile(loss='sparse_categorical_crossentropy', optimizer=optimizer, metrics=['accuracy'])\n",
    "\n",
    "# Train the model\n",
    "model.fit(train_X, train_Y, epochs=100, batch_size=128)\n",
    "\n",
    "# Evaluate the model\n",
    "print('\\n# Evaluate on test data')\n",
    "results = model.evaluate(test_X, test_Y, batch_size=128)\n",
    "print('test loss, test acc:', results)"
   ],
   "metadata": {
    "collapsed": false,
    "ExecuteTime": {
     "end_time": "2023-07-27T20:43:41.384606Z",
     "start_time": "2023-07-27T20:42:10.989665Z"
    }
   }
  },
  {
   "cell_type": "code",
   "execution_count": 18,
   "outputs": [
    {
     "name": "stdout",
     "output_type": "stream",
     "text": [
      "76/76 [==============================] - 1s 6ms/step\n"
     ]
    }
   ],
   "source": [
    "# Generate predictions\n",
    "y_pred = model.predict(test_X)\n",
    "\n",
    "y_pred = np.argmax(y_pred, axis=1)"
   ],
   "metadata": {
    "collapsed": false,
    "ExecuteTime": {
     "end_time": "2023-07-27T20:43:48.283120Z",
     "start_time": "2023-07-27T20:43:47.594910Z"
    }
   }
  },
  {
   "cell_type": "code",
   "execution_count": 19,
   "outputs": [
    {
     "data": {
      "text/plain": "<Figure size 1000x1000 with 2 Axes>",
      "image/png": "[encoded data removed]"
     },
     "metadata": {},
     "output_type": "display_data"
    },
    {
     "name": "stdout",
     "output_type": "stream",
     "text": [
      "              precision    recall  f1-score   support\n",
      "\n",
      "           B       0.33      0.15      0.21       724\n",
      "           M       0.70      0.86      0.78      1679\n",
      "\n",
      "    accuracy                           0.65      2403\n",
      "   macro avg       0.52      0.51      0.49      2403\n",
      "weighted avg       0.59      0.65      0.61      2403\n",
      "\n"
     ]
    }
   ],
   "source": [
    "cm = confusion_matrix(test_Y, y_pred)\n",
    "\n",
    "cm_normalized = cm.astype('float') / cm.sum(axis=1)[:, np.newaxis]\n",
    "\n",
    "# Visualize confusion matrix\n",
    "plt.figure(figsize=(10,10))\n",
    "sns.heatmap(cm_normalized, annot=True, fmt=\".2f\", linewidths=.5, square = True, cmap = 'Blues')\n",
    "plt.ylabel('Actual label')\n",
    "plt.xlabel('Predicted label')\n",
    "plt.show()\n",
    "\n",
    "report = classification_report(test_Y, y_pred, target_names=['B', 'M'])\n",
    "print(report)"
   ],
   "metadata": {
    "collapsed": false,
    "ExecuteTime": {
     "end_time": "2023-07-27T20:43:49.052977Z",
     "start_time": "2023-07-27T20:43:48.952691Z"
    }
   }
  },
  {
   "cell_type": "code",
   "execution_count": 13,
   "outputs": [],
   "source": [],
   "metadata": {
    "collapsed": false,
    "ExecuteTime": {
     "end_time": "2023-07-27T19:22:30.506213Z",
     "start_time": "2023-07-27T19:22:30.501409Z"
    }
   }
  },
  {
   "cell_type": "code",
   "execution_count": null,
   "outputs": [],
   "source": [],
   "metadata": {
    "collapsed": false
   }
  }
 ],
 "metadata": {
  "kernelspec": {
   "display_name": "Python 3",
   "language": "python",
   "name": "python3"
  },
  "language_info": {
   "codemirror_mode": {
    "name": "ipython",
    "version": 2
   },
   "file_extension": ".py",
   "mimetype": "text/x-python",
   "name": "python",
   "nbconvert_exporter": "python",
   "pygments_lexer": "ipython2",
   "version": "2.7.6"
  }
 },
 "nbformat": 4,
 "nbformat_minor": 0
}
